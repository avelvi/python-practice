{
 "cells": [
  {
   "cell_type": "markdown",
   "metadata": {},
   "source": [
    "## while Loop\n",
    "\n",
    "A <code>while</code> statement will repeatedly execute a single statement or group of statements as long as the condition is true.\n",
    "\n",
    "The syntax of <code>while</code> loop is:\n",
    "\n",
    "    while test:\n",
    "        code statements\n",
    "    else:\n",
    "        final code statements"
   ]
  },
  {
   "cell_type": "code",
   "execution_count": 1,
   "metadata": {},
   "outputs": [
    {
     "name": "stdout",
     "output_type": "stream",
     "text": [
      "x is = 0\n",
      "adding 1 to x\n",
      "x is = 1\n",
      "adding 1 to x\n",
      "x is = 2\n",
      "adding 1 to x\n"
     ]
    }
   ],
   "source": [
    "x = 0\n",
    "\n",
    "while x < 3:\n",
    "    print(f\"x is = {x}\")\n",
    "    print(f\"adding 1 to x\")\n",
    "    x += 1"
   ]
  },
  {
   "cell_type": "code",
   "execution_count": 2,
   "metadata": {},
   "outputs": [
    {
     "name": "stdout",
     "output_type": "stream",
     "text": [
      "x is = 0\n",
      "adding 1 to x\n",
      "x is = 1\n",
      "adding 1 to x\n",
      "x is = 2\n",
      "adding 1 to x\n",
      "Done. x = 3\n"
     ]
    }
   ],
   "source": [
    "x = 0\n",
    "\n",
    "while x < 3:\n",
    "    print(f\"x is = {x}\")\n",
    "    print(f\"adding 1 to x\")\n",
    "    x += 1\n",
    "else:\n",
    "    print(f\"Done. x = {x}\")"
   ]
  },
  {
   "cell_type": "markdown",
   "metadata": {},
   "source": [
    "### break, continue, pass\n",
    "\n",
    "We can use <code>break</code>, <code>continue</code>, and <code>pass</code> statements in our loops to add additional functionality for various cases. The three statements are defined by:\n",
    "- <code>break</code> - breaks out of the current closest enclosing loop.\n",
    "- <code>continue</code> - goes to the top of the closest enclosing loop.\n",
    "- <code>pass</code> - does nothing at all.\n",
    "\n",
    "<code>break</code> and <code>continue</code> statements can appear anywhere inside the loop’s body, but we will usually put them further nested in conjunction with an if statement to perform an action based on some condition.\n",
    "\n",
    "The syntax is:\n",
    "    \n",
    "    while test: \n",
    "        code statement\n",
    "        if test: \n",
    "            break\n",
    "        if test: \n",
    "            continue"
   ]
  },
  {
   "cell_type": "code",
   "execution_count": 3,
   "metadata": {},
   "outputs": [
    {
     "name": "stdout",
     "output_type": "stream",
     "text": [
      "x is = 0\n",
      "Continue\n",
      "x is = 1\n",
      "Continue\n",
      "x is = 2\n",
      "Continue\n",
      "x is = 3\n",
      "Continue\n",
      "x is = 4\n",
      "x = 5. Break\n",
      "Done. x = 5\n"
     ]
    }
   ],
   "source": [
    "x = 0\n",
    "\n",
    "while x < 10:\n",
    "    print(f\"x is = {x}\")\n",
    "    x += 1\n",
    "    if x == 5:\n",
    "        print(\"x = 5. Break\")\n",
    "        break\n",
    "    else:\n",
    "        print(\"Continue\")\n",
    "        continue\n",
    "    \n",
    "print(f\"Done. x = {x}\")"
   ]
  },
  {
   "cell_type": "code",
   "execution_count": null,
   "metadata": {},
   "outputs": [],
   "source": []
  }
 ],
 "metadata": {
  "kernelspec": {
   "display_name": "Python 3",
   "language": "python",
   "name": "python3"
  },
  "language_info": {
   "codemirror_mode": {
    "name": "ipython",
    "version": 3
   },
   "file_extension": ".py",
   "mimetype": "text/x-python",
   "name": "python",
   "nbconvert_exporter": "python",
   "pygments_lexer": "ipython3",
   "version": "3.6.4"
  }
 },
 "nbformat": 4,
 "nbformat_minor": 2
}
