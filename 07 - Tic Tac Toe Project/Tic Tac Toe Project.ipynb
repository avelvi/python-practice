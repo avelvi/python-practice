{
 "cells": [
  {
   "cell_type": "code",
   "execution_count": 1,
   "metadata": {},
   "outputs": [],
   "source": [
    "from IPython.display import clear_output\n",
    "import random"
   ]
  },
  {
   "cell_type": "code",
   "execution_count": 2,
   "metadata": {},
   "outputs": [],
   "source": [
    "def display_board(board):\n",
    "    clear_output()\n",
    "    delimeter = '---'\n",
    "    print(f\"{board[7]:^3} | {board[8]:^3} | {board[9]:^3}\")\n",
    "    print(f\"{delimeter:^3} | {delimeter:^3} | {delimeter:^3}\")\n",
    "    print(f\"{board[4]:^3} | {board[5]:^3} | {board[6]:^3}\")\n",
    "    print(f\"{delimeter:^3} | {delimeter:^3} | {delimeter:^3}\")\n",
    "    print(f\"{board[1]:^3} | {board[2]:^3} | {board[3]:^3} \")"
   ]
  },
  {
   "cell_type": "code",
   "execution_count": 3,
   "metadata": {},
   "outputs": [],
   "source": [
    "def player_input():\n",
    "    symbol = ''\n",
    "    while not (symbol == 'X' or symbol == 'O'):\n",
    "        symbol = input(\"Do you want to be X or O?: \").upper()\n",
    "        \n",
    "    return ('X', 'O') if symbol == 'X' else ('O', 'X')"
   ]
  },
  {
   "cell_type": "code",
   "execution_count": 4,
   "metadata": {},
   "outputs": [],
   "source": [
    "def place_symbol(board, symbol, position):\n",
    "    board[position] = symbol"
   ]
  },
  {
   "cell_type": "code",
   "execution_count": 5,
   "metadata": {},
   "outputs": [],
   "source": [
    "def win_check(board, symbol):\n",
    "    \n",
    "    #-----\n",
    "    # Solution 1\n",
    "    #-----\n",
    "    win_combination = symbol * 3\n",
    "    return (\n",
    "        # ALL ROWS\n",
    "        (board[7] + board[8] + board[9]) == win_combination or\n",
    "        (board[4] + board[5] + board[6]) == win_combination or\n",
    "        (board[1] + board[2] + board[3]) == win_combination or\n",
    "        # ALL COLUMNS\n",
    "        (board[7] + board[4] + board[1]) == win_combination or\n",
    "        (board[8] + board[5] + board[2]) == win_combination or\n",
    "        (board[9] + board[6] + board[3]) == win_combination or\n",
    "        # ALL DIAGONALES\n",
    "        (board[7] + board[5] + board[3]) == win_combination or\n",
    "        (board[9] + board[5] + board[1]) == win_combination\n",
    "    )\n",
    "    #-----\n",
    "    #End Solution 1\n",
    "    #-----\n",
    "    \n",
    "    #-----\n",
    "    # Solution 2\n",
    "    #-----\n",
    "#     return (\n",
    "#         # ALL ROWS\n",
    "#         (board[7] ==  board[8] ==  board[9] == mark) or\n",
    "#         (board[4] ==  board[5] ==  board[6] == mark) or\n",
    "#         (board[1] ==  board[2] ==  board[3] == mark) or\n",
    "#         # ALL COLUMNS\n",
    "#         (board[7] ==  board[4] ==  board[1] == mark) or\n",
    "#         (board[8] ==  board[5] ==  board[2] == mark) or\n",
    "#         (board[9] ==  board[6] ==  board[3] == mark) or\n",
    "#         # ALL DIAGONALES\n",
    "#         (board[7] ==  board[5] ==  board[3] == mark) or\n",
    "#         (board[9] ==  board[5] ==  board[1] == mark)\n",
    "#     )\n",
    "    #-----\n",
    "    #End Solution 2\n",
    "    #-----\n",
    "    "
   ]
  },
  {
   "cell_type": "code",
   "execution_count": 6,
   "metadata": {},
   "outputs": [],
   "source": [
    "def choose_first():\n",
    "    return \"Player 1\" if random.randint(0, 1) == 0 else \"Player 2\""
   ]
  },
  {
   "cell_type": "code",
   "execution_count": 7,
   "metadata": {},
   "outputs": [],
   "source": [
    "def space_check(board, position):\n",
    "    return board[position] == ' '"
   ]
  },
  {
   "cell_type": "code",
   "execution_count": 8,
   "metadata": {},
   "outputs": [],
   "source": [
    "def is_board_full(board):\n",
    "    return ' ' not in board[1:]"
   ]
  },
  {
   "cell_type": "code",
   "execution_count": 9,
   "metadata": {},
   "outputs": [],
   "source": [
    "def player_choice(board):\n",
    "    position = 0\n",
    "    while position not in [1, 2, 3, 4, 5, 6, 7, 8, 9] or not space_check(board, position):\n",
    "        try:\n",
    "            position = int(input(f\"Please choose a position: (1 - 9)\"))\n",
    "        except:\n",
    "            print(\"Wrong input. Please try again.\")\n",
    "    return position"
   ]
  },
  {
   "cell_type": "code",
   "execution_count": 10,
   "metadata": {},
   "outputs": [],
   "source": [
    "def replay():\n",
    "    choice = input(\"If you watn to play again, please enter 'Yes', otherwise press any key.\")\n",
    "    return choice.lower() == \"yes\""
   ]
  },
  {
   "cell_type": "code",
   "execution_count": null,
   "metadata": {},
   "outputs": [
    {
     "name": "stdout",
     "output_type": "stream",
     "text": [
      "    |     |    \n",
      "--- | --- | ---\n",
      "    |     |    \n",
      "--- | --- | ---\n",
      "    |     |     \n"
     ]
    }
   ],
   "source": [
    "print('Welcome to Tic Tac Toe!')\n",
    "\n",
    "while True:\n",
    "    # Reset the board\n",
    "    theBoard = [' '] * 10\n",
    "    player1_marker, player2_marker = player_input()\n",
    "    turn = choose_first()\n",
    "    print(turn + ' will go first.')\n",
    "    \n",
    "    play_game = input(\"If you ready to play again, please enter 'Yes', otherwise press any key.\")\n",
    "    \n",
    "    game_on = play_game.lower() == 'yes'\n",
    "\n",
    "    while game_on:\n",
    "        if turn == 'Player 1':\n",
    "            # Player1's turn.\n",
    "            \n",
    "            display_board(theBoard)\n",
    "            position = player_choice(theBoard)\n",
    "            place_symbol(theBoard, player1_marker, position)\n",
    "\n",
    "            if win_check(theBoard, player1_marker):\n",
    "                display_board(theBoard)\n",
    "                print('Congratulations! You have won the game!')\n",
    "                game_on = False\n",
    "            else:\n",
    "                if is_board_full(theBoard):\n",
    "                    display_board(theBoard)\n",
    "                    print('The game is a draw!')\n",
    "                    break\n",
    "                else:\n",
    "                    turn = 'Player 2'\n",
    "\n",
    "        else:\n",
    "            # Player2's turn.\n",
    "            \n",
    "            display_board(theBoard)\n",
    "            position = player_choice(theBoard)\n",
    "            place_symbol(theBoard, player2_marker, position)\n",
    "\n",
    "            if win_check(theBoard, player2_marker):\n",
    "                display_board(theBoard)\n",
    "                print('Player 2 has won!')\n",
    "                game_on = False\n",
    "            else:\n",
    "                if is_board_full(theBoard):\n",
    "                    display_board(theBoard)\n",
    "                    print('The game is a draw!')\n",
    "                    break\n",
    "                else:\n",
    "                    turn = 'Player 1'\n",
    "\n",
    "    if not replay():\n",
    "        break"
   ]
  },
  {
   "cell_type": "code",
   "execution_count": null,
   "metadata": {},
   "outputs": [],
   "source": []
  }
 ],
 "metadata": {
  "kernelspec": {
   "display_name": "Python 3",
   "language": "python",
   "name": "python3"
  },
  "language_info": {
   "codemirror_mode": {
    "name": "ipython",
    "version": 3
   },
   "file_extension": ".py",
   "mimetype": "text/x-python",
   "name": "python",
   "nbconvert_exporter": "python",
   "pygments_lexer": "ipython3",
   "version": "3.6.5"
  }
 },
 "nbformat": 4,
 "nbformat_minor": 2
}
