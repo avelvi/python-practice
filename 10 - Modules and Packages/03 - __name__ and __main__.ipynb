{
 "cells": [
  {
   "cell_type": "markdown",
   "metadata": {},
   "source": [
    "## \\__name\\__ and \\__main\\__\n",
    "\n",
    "Sometimes when you are importing from a module, you would like to know whether\n",
    "a modules function is being used as an import, or if you are using the original\n",
    "<code>.py</code> file of that module. In this case we can use the:\n",
    "\n",
    "      if __name__ == \"__main__\":\n",
    "\n",
    "line to determine this. "
   ]
  },
  {
   "cell_type": "markdown",
   "metadata": {},
   "source": [
    "For example when your script is run by passing it as a command to the Python interpreter:\n",
    "    \n",
    "    python myscript.py\n",
    "    \n",
    "all of the code that is at indentation level 0 gets executed. Functions and\n",
    "classes that are defined are, well, defined, but none of their code gets ran.\n",
    "Unlike other languages, there's no main() function that gets run automatically. The <code>main()</code> function is implicitly all the code at the top level.\n",
    "\n",
    "In this case, the top-level code is an if block.  <code>\\__name\\__</code> is a built-in variable which evaluate to the name of the current module. \n",
    "\n",
    "However, if a module is being run directly (as in myscript.py above), then <code>\\__name\\__</code> instead is set to the string \"<code>\\__main\\__</code>\". Thus, you can test whether your script is being run directly or being imported by something else by testing\n",
    "\n",
    "    if __name__ == \"__main__\":\n",
    "        ...\n",
    "\n",
    "If that code is being imported into another module, the various function and class definitions will be imported, but the <code>main()</code> code won't get run. As a basic example, consider the following two scripts:"
   ]
  },
  {
   "cell_type": "code",
   "execution_count": 1,
   "metadata": {},
   "outputs": [
    {
     "name": "stdout",
     "output_type": "stream",
     "text": [
      "Writing one.py\n"
     ]
    }
   ],
   "source": [
    "%%writefile one.py\n",
    "def func():\n",
    "    print(\"func() in one.py\")\n",
    "\n",
    "print(\"top-level in one.py\")\n",
    "\n",
    "if __name__ == \"__main__\":\n",
    "    print(\"one.py is being run directly\")\n",
    "else:\n",
    "    print(\"one.py is being imported into another module\")"
   ]
  },
  {
   "cell_type": "code",
   "execution_count": 2,
   "metadata": {},
   "outputs": [
    {
     "name": "stdout",
     "output_type": "stream",
     "text": [
      "Writing two.py\n"
     ]
    }
   ],
   "source": [
    "%%writefile two.py\n",
    "\n",
    "import one\n",
    "\n",
    "print(\"top-level in two.py\")\n",
    "one.func()\n",
    "\n",
    "if __name__ == \"__main__\":\n",
    "    print(\"two.py is being run directly\")\n",
    "else:\n",
    "    print(\"two.py is being imported into another module\")"
   ]
  },
  {
   "cell_type": "code",
   "execution_count": 3,
   "metadata": {},
   "outputs": [
    {
     "name": "stdout",
     "output_type": "stream",
     "text": [
      "top-level in one.py\r\n",
      "one.py is being run directly\r\n"
     ]
    }
   ],
   "source": [
    "! python one.py"
   ]
  },
  {
   "cell_type": "code",
   "execution_count": 4,
   "metadata": {},
   "outputs": [
    {
     "name": "stdout",
     "output_type": "stream",
     "text": [
      "top-level in one.py\r\n",
      "one.py is being imported into another module\r\n",
      "top-level in two.py\r\n",
      "func() in one.py\r\n",
      "two.py is being run directly\r\n"
     ]
    }
   ],
   "source": [
    "! python two.py"
   ]
  },
  {
   "cell_type": "markdown",
   "metadata": {},
   "source": [
    "Thus, when module one gets loaded, its <code>\\__name\\__</code> equals \"one\" instead of <code>\\__main\\__</code>."
   ]
  },
  {
   "cell_type": "code",
   "execution_count": null,
   "metadata": {},
   "outputs": [],
   "source": []
  }
 ],
 "metadata": {
  "kernelspec": {
   "display_name": "Python 3",
   "language": "python",
   "name": "python3"
  },
  "language_info": {
   "codemirror_mode": {
    "name": "ipython",
    "version": 3
   },
   "file_extension": ".py",
   "mimetype": "text/x-python",
   "name": "python",
   "nbconvert_exporter": "python",
   "pygments_lexer": "ipython3",
   "version": "3.6.4"
  }
 },
 "nbformat": 4,
 "nbformat_minor": 2
}
