{
 "cells": [
  {
   "cell_type": "markdown",
   "metadata": {},
   "source": [
    "## Packages\n",
    "\n",
    "Packages are name-spaces which contain multiple packages and modules themselves. They are simply directories, but with a twist.\n",
    "\n",
    "Each package in Python is a directory which <b>MUST</b> contain a special file called <code>\\__init__.py</code>. This file can be empty, and it indicates that the directory it contains is a Python package, so it can be imported the same way a module can be imported."
   ]
  },
  {
   "cell_type": "code",
   "execution_count": 1,
   "metadata": {},
   "outputs": [],
   "source": [
    "%mkdir MyMainPackage\n",
    "%mkdir MyMainPackage/MySubPackage"
   ]
  },
  {
   "cell_type": "code",
   "execution_count": 2,
   "metadata": {},
   "outputs": [
    {
     "name": "stdout",
     "output_type": "stream",
     "text": [
      "Writing MyMainPackage/__init__.py\n"
     ]
    }
   ],
   "source": [
    "%%writefile MyMainPackage/__init__.py\n",
    "'''\n",
    "__init__.py file for package\n",
    "'''"
   ]
  },
  {
   "cell_type": "code",
   "execution_count": 3,
   "metadata": {},
   "outputs": [
    {
     "name": "stdout",
     "output_type": "stream",
     "text": [
      "Writing MyMainPackage/main_package_script.py\n"
     ]
    }
   ],
   "source": [
    "%%writefile MyMainPackage/main_package_script.py\n",
    "def main_report():\n",
    "    print(\"I am in main_package_script in MyMainPackage package.\")"
   ]
  },
  {
   "cell_type": "code",
   "execution_count": 4,
   "metadata": {},
   "outputs": [
    {
     "name": "stdout",
     "output_type": "stream",
     "text": [
      "Writing MyMainPackage/MySubPackage/__init__.py\n"
     ]
    }
   ],
   "source": [
    "%%writefile MyMainPackage/MySubPackage/__init__.py\n",
    "'''\n",
    "__init__.py file for package\n",
    "'''"
   ]
  },
  {
   "cell_type": "code",
   "execution_count": 5,
   "metadata": {},
   "outputs": [
    {
     "name": "stdout",
     "output_type": "stream",
     "text": [
      "Writing MyMainPackage/MySubPackage/sub_package_script.py\n"
     ]
    }
   ],
   "source": [
    "%%writefile MyMainPackage/MySubPackage/sub_package_script.py\n",
    "def sub_report():\n",
    "    print(\"I am in sub_package_script in MyMainPackage/MySubPackage package.\")"
   ]
  },
  {
   "cell_type": "code",
   "execution_count": 6,
   "metadata": {},
   "outputs": [
    {
     "name": "stdout",
     "output_type": "stream",
     "text": [
      "Writing myprogram2.py\n"
     ]
    }
   ],
   "source": [
    "%%writefile myprogram2.py\n",
    "from MyMainPackage.main_package_script import main_report\n",
    "from MyMainPackage.MySubPackage import sub_package_script\n",
    "\n",
    "main_report()\n",
    "\n",
    "sub_package_script.sub_report()"
   ]
  },
  {
   "cell_type": "code",
   "execution_count": 7,
   "metadata": {},
   "outputs": [
    {
     "name": "stdout",
     "output_type": "stream",
     "text": [
      "I am in main_package_script in MyMainPackage package.\r\n",
      "I am in sub_package_script in MyMainPackage/MySubPackage package.\r\n"
     ]
    }
   ],
   "source": [
    "! python myprogram2.py"
   ]
  },
  {
   "cell_type": "code",
   "execution_count": null,
   "metadata": {},
   "outputs": [],
   "source": []
  }
 ],
 "metadata": {
  "kernelspec": {
   "display_name": "Python 3",
   "language": "python",
   "name": "python3"
  },
  "language_info": {
   "codemirror_mode": {
    "name": "ipython",
    "version": 3
   },
   "file_extension": ".py",
   "mimetype": "text/x-python",
   "name": "python",
   "nbconvert_exporter": "python",
   "pygments_lexer": "ipython3",
   "version": "3.6.4"
  }
 },
 "nbformat": 4,
 "nbformat_minor": 2
}
